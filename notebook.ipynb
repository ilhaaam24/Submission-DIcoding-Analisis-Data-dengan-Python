{
 "cells": [
  {
   "cell_type": "markdown",
   "id": "3a1d9b62-988b-4f23-995c-546772a07774",
   "metadata": {},
   "source": [
    "# **Submission Dicoding : Analisis Data Bike-sharing-dataset**\n",
    "- Nama: Muhammad Ilham\n",
    "- Email: mi1797128@gmail.com\n",
    "- ID Dicoding: ilham24"
   ]
  },
  {
   "cell_type": "markdown",
   "id": "3be06b49-e101-4048-b168-11401fe58850",
   "metadata": {},
   "source": [
    "## Menentukan Pertanyaan Bsnis\n"
   ]
  },
  {
   "cell_type": "markdown",
   "id": "f0c224bc-4e55-436c-ab4b-d2125ad645a6",
   "metadata": {},
   "source": [
    "•Berapa banyak rata-rata peminjaman sepeda dalam satu bulan?\n",
    "•"
   ]
  },
  {
   "cell_type": "markdown",
   "id": "ccfbfbad-c863-4366-a010-d59b254ce32e",
   "metadata": {},
   "source": [
    "## Menyiapkan semua library yang dibutuhkan"
   ]
  },
  {
   "cell_type": "code",
   "execution_count": null,
   "id": "e90441b0-212b-44df-a037-c002c7bff98b",
   "metadata": {},
   "outputs": [],
   "source": [
    "import numpy as np\n",
    "import pandas as pd\n",
    "import matplotlib.pyplot as plt"
   ]
  },
  {
   "cell_type": "markdown",
   "id": "df55d1b9-aae0-47ed-903e-904ebbe5a341",
   "metadata": {},
   "source": [
    "## Data Wrangling"
   ]
  },
  {
   "cell_type": "code",
   "execution_count": null,
   "id": "16e61f00-0180-47eb-9e25-26fbc396e291",
   "metadata": {},
   "outputs": [],
   "source": []
  }
 ],
 "metadata": {
  "kernelspec": {
   "display_name": "Python 3 (ipykernel)",
   "language": "python",
   "name": "python3"
  },
  "language_info": {
   "codemirror_mode": {
    "name": "ipython",
    "version": 3
   },
   "file_extension": ".py",
   "mimetype": "text/x-python",
   "name": "python",
   "nbconvert_exporter": "python",
   "pygments_lexer": "ipython3",
   "version": "3.12.2"
  }
 },
 "nbformat": 4,
 "nbformat_minor": 5
}
